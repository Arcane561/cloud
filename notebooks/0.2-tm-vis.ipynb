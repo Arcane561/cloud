{
 "cells": [
  {
   "cell_type": "markdown",
   "metadata": {},
   "source": [
    "# Training set visualization\n",
    "Use to visualize fast...."
   ]
  },
  {
   "cell_type": "markdown",
   "metadata": {},
   "source": [
    "## Packages"
   ]
  },
  {
   "cell_type": "code",
   "execution_count": 1,
   "metadata": {
    "ExecuteTime": {
     "end_time": "2019-09-10T21:26:00.488778Z",
     "start_time": "2019-09-10T21:26:00.479283Z"
    }
   },
   "outputs": [],
   "source": [
    "%config IPCompleter.use_jedi = False"
   ]
  },
  {
   "cell_type": "code",
   "execution_count": 2,
   "metadata": {
    "ExecuteTime": {
     "end_time": "2019-09-10T21:26:01.865279Z",
     "start_time": "2019-09-10T21:26:01.136876Z"
    }
   },
   "outputs": [],
   "source": [
    "import numpy as np\n",
    "import pandas as pd\n",
    "import matplotlib.pyplot as plt\n",
    "import os\n",
    "import random\n",
    "from skimage.io import imread\n",
    "from collections import defaultdict\n",
    "from matplotlib import colors\n",
    "from ipywidgets import interact"
   ]
  },
  {
   "cell_type": "markdown",
   "metadata": {},
   "source": [
    "## Setting"
   ]
  },
  {
   "cell_type": "code",
   "execution_count": 3,
   "metadata": {
    "ExecuteTime": {
     "end_time": "2019-09-10T21:26:02.703169Z",
     "start_time": "2019-09-10T21:26:02.700304Z"
    }
   },
   "outputs": [],
   "source": [
    "basedir_train_img = \"./../data/raw/train_images/\"\n",
    "path_train_label = \"./../data/raw/train.csv\"\n",
    "IMG_SHAPE = (1400, 2100, 3)\n",
    "IMG_ROWS = IMG_SHAPE[0]\n",
    "IMG_COLS = IMG_SHAPE[1]\n",
    "IMG_CHANNEL = IMG_SHAPE[2]\n",
    "IMG_SIZE = (IMG_ROWS, IMG_COLS)\n",
    "FIGSIZE = (10, 10)\n",
    "palette = ['#1f77b4', '#ff7f0e', '#2ca02c', '#d62728',\n",
    "           '#9467bd', '#8c564b', '#e377c2', '#7f7f7f',\n",
    "           '#bcbd22', '#17becf']"
   ]
  },
  {
   "cell_type": "code",
   "execution_count": 4,
   "metadata": {
    "ExecuteTime": {
     "end_time": "2019-09-10T21:26:04.028164Z",
     "start_time": "2019-09-10T21:26:03.548265Z"
    }
   },
   "outputs": [],
   "source": [
    "img_names = [x for x in os.listdir(basedir_train_img)]\n",
    "\n",
    "labels = defaultdict(dict)\n",
    "with open(path_train_label) as f:\n",
    "    header = f.readline()\n",
    "    for line in f.readlines():\n",
    "        n, l = line.split(',')[0].split('_')\n",
    "        s = line.split(',')[1].replace('\\n','')\n",
    "        if s:\n",
    "            labels[n][l] = s\n",
    "            \n",
    "classes = sorted(set([c for n in labels.keys() for c in labels[n].keys()]))\n",
    "classes\n",
    "\n",
    "label_enc = {}\n",
    "label_enc_color = {}\n",
    "for i, c in enumerate(classes):\n",
    "    label_enc[c] = 2 ** i\n",
    "    label_enc_color[c] = list(colors.to_rgb(palette[i]))"
   ]
  },
  {
   "cell_type": "code",
   "execution_count": 5,
   "metadata": {
    "ExecuteTime": {
     "end_time": "2019-09-10T21:26:04.269010Z",
     "start_time": "2019-09-10T21:26:04.248917Z"
    }
   },
   "outputs": [],
   "source": [
    "def draw_sample(img_name):\n",
    "\n",
    "    path_sample = os.path.join(basedir_train_img, img_name)\n",
    "    img = imread(path_sample)\n",
    "    mask = np.zeros(IMG_SIZE, dtype=np.int).flatten()\n",
    "    for label, seg_str in labels[img_name].items():\n",
    "        label_num = label_enc[label]\n",
    "        if seg_str:\n",
    "            segment = np.array(seg_str.split(' ')).astype(np.int).reshape(-1, 2)\n",
    "            for (start, length) in segment:\n",
    "                mask[start:start + length] += label_num\n",
    "    mask = mask.reshape(IMG_SIZE, order='F')\n",
    "\n",
    "    plt.figure(figsize=FIGSIZE)\n",
    "    plt.imshow(img, alpha=1)\n",
    "    a_c = {}\n",
    "    for label in classes:\n",
    "        code = label_enc[label]\n",
    "        color = label_enc_color[label]\n",
    "        img_l = np.zeros(IMG_SHAPE)\n",
    "        mask_c = (mask & code == code)\n",
    "        area = mask_c.sum() / (IMG_COLS * IMG_ROWS)\n",
    "        if area:\n",
    "            a_c[label] = np.round(100 * area, 2)\n",
    "            img_l[mask_c] = color\n",
    "            plt.imshow(img_l, alpha=0.3)\n",
    "    plt.title(\"{} - {}\".format(img_name, a_c))\n",
    "    plt.show()\n",
    "\n",
    "    plt.figure(figsize=FIGSIZE)\n",
    "    for i, label in enumerate(classes):\n",
    "        plt.subplot(int(len(classes) / 2), 2, i + 1)\n",
    "        code = label_enc[label]\n",
    "        img_c = img.copy()\n",
    "        mask_c = (mask & code == code)\n",
    "        area = mask_c.sum() / (IMG_COLS * IMG_ROWS)\n",
    "        if area:\n",
    "            img_c[~mask_c] = 0\n",
    "            plt.imshow(img_c)\n",
    "            plt.title(\"{}: {}%\".format(label, np.round(area * 100, 2)))\n",
    "    plt.show()"
   ]
  },
  {
   "cell_type": "markdown",
   "metadata": {},
   "source": [
    "## Plotting..."
   ]
  },
  {
   "cell_type": "code",
   "execution_count": 6,
   "metadata": {
    "ExecuteTime": {
     "end_time": "2019-09-10T21:26:06.948573Z",
     "start_time": "2019-09-10T21:26:05.244099Z"
    }
   },
   "outputs": [
    {
     "data": {
      "application/vnd.jupyter.widget-view+json": {
       "model_id": "dbf0961d6c5a450caae88da26deeb2cf",
       "version_major": 2,
       "version_minor": 0
      },
      "text/plain": [
       "interactive(children=(Dropdown(description='img_name', options=('6550e47.jpg', 'ade61a0.jpg', 'cc841a2.jpg', '…"
      ]
     },
     "metadata": {},
     "output_type": "display_data"
    }
   ],
   "source": [
    "interact(draw_sample, img_name=img_names);"
   ]
  },
  {
   "cell_type": "code",
   "execution_count": null,
   "metadata": {},
   "outputs": [],
   "source": []
  }
 ],
 "metadata": {
  "kernelspec": {
   "display_name": "Python 3",
   "language": "python",
   "name": "python3"
  },
  "language_info": {
   "codemirror_mode": {
    "name": "ipython",
    "version": 3
   },
   "file_extension": ".py",
   "mimetype": "text/x-python",
   "name": "python",
   "nbconvert_exporter": "python",
   "pygments_lexer": "ipython3",
   "version": "3.6.9"
  },
  "toc": {
   "base_numbering": 1,
   "nav_menu": {},
   "number_sections": true,
   "sideBar": true,
   "skip_h1_title": false,
   "title_cell": "Table of Contents",
   "title_sidebar": "Contents",
   "toc_cell": false,
   "toc_position": {},
   "toc_section_display": true,
   "toc_window_display": false
  }
 },
 "nbformat": 4,
 "nbformat_minor": 2
}
