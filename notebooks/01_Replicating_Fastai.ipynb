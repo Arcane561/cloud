{
 "cells": [
  {
   "cell_type": "markdown",
   "metadata": {},
   "source": [
    "# Try Fastai"
   ]
  },
  {
   "cell_type": "markdown",
   "metadata": {},
   "source": [
    "Modifying mask using:\n",
    "https://forums.fast.ai/t/how-to-load-multiple-classes-of-rle-strings-from-csv-severstal-steel-competition/51445"
   ]
  },
  {
   "cell_type": "code",
   "execution_count": null,
   "metadata": {
    "ExecuteTime": {
     "end_time": "2019-09-16T20:07:19.771818Z",
     "start_time": "2019-09-16T20:07:18.906924Z"
    }
   },
   "outputs": [],
   "source": [
    "from fastai import *\n",
    "from fastai.vision import *\n",
    "from fastai.callbacks.hooks import *\n",
    "\n",
    "import pandas as pd\n",
    "import numpy as np\n",
    "from matplotlib import pyplot as plt\n",
    "from PIL import Image\n",
    "\n",
    "from pathlib import Path\n",
    "import os\n",
    "import random\n",
    "\n",
    "from fastai.callbacks.hooks import *\n",
    "from fastai.utils.mem import *\n",
    "\n",
    "import random"
   ]
  },
  {
   "cell_type": "markdown",
   "metadata": {},
   "source": [
    "## Preparation"
   ]
  },
  {
   "cell_type": "markdown",
   "metadata": {},
   "source": [
    "Main challenge with fastai is the creation of databunch. After that its all straightforward."
   ]
  },
  {
   "cell_type": "code",
   "execution_count": null,
   "metadata": {
    "ExecuteTime": {
     "end_time": "2019-09-14T12:31:36.474549Z",
     "start_time": "2019-09-14T12:31:36.464220Z"
    }
   },
   "outputs": [],
   "source": [
    "PROJ_DIR = Path(os.path.abspath(\"\")).parent\n",
    "PROJ_DIR"
   ]
  },
  {
   "cell_type": "code",
   "execution_count": null,
   "metadata": {
    "ExecuteTime": {
     "end_time": "2019-09-14T12:31:36.485496Z",
     "start_time": "2019-09-14T12:31:36.475491Z"
    }
   },
   "outputs": [],
   "source": [
    "path_train_img = PROJ_DIR / \"data\" / \"raw\" / \"train_images\"\n",
    "path_train_labels = PROJ_DIR / \"data\" / \"raw\" / \"train_labels\"\n",
    "path_test_img = PROJ_DIR / \"data\" / \"raw\" / \"test_images\""
   ]
  },
  {
   "cell_type": "code",
   "execution_count": null,
   "metadata": {
    "ExecuteTime": {
     "end_time": "2019-09-14T12:31:36.520390Z",
     "start_time": "2019-09-14T12:31:36.486604Z"
    }
   },
   "outputs": [],
   "source": [
    "fnames = get_image_files(path_train_img)\n",
    "fnames[:3]"
   ]
  },
  {
   "cell_type": "code",
   "execution_count": null,
   "metadata": {
    "ExecuteTime": {
     "end_time": "2019-09-14T12:31:36.831996Z",
     "start_time": "2019-09-14T12:31:36.521403Z"
    },
    "scrolled": true
   },
   "outputs": [],
   "source": [
    "img_f = random.choice(fnames)\n",
    "img = open_image(img_f)\n",
    "img.show(figsize=(5, 5))"
   ]
  },
  {
   "cell_type": "code",
   "execution_count": null,
   "metadata": {
    "ExecuteTime": {
     "end_time": "2019-09-14T12:31:37.878954Z",
     "start_time": "2019-09-14T12:31:36.832982Z"
    }
   },
   "outputs": [],
   "source": [
    "df_labels = pd.read_csv(PROJ_DIR / \"data/raw/train.csv\")\n",
    "df_labels.head(10)"
   ]
  },
  {
   "cell_type": "markdown",
   "metadata": {},
   "source": [
    "### Reading Labels"
   ]
  },
  {
   "cell_type": "code",
   "execution_count": null,
   "metadata": {
    "ExecuteTime": {
     "end_time": "2019-09-16T20:07:13.045991Z",
     "start_time": "2019-09-16T20:07:13.009490Z"
    }
   },
   "outputs": [],
   "source": [
    "shape = np.array(img.shape[-2:])\n",
    "shape"
   ]
  },
  {
   "cell_type": "markdown",
   "metadata": {},
   "source": [
    "## Create DataBunch"
   ]
  },
  {
   "cell_type": "code",
   "execution_count": null,
   "metadata": {
    "ExecuteTime": {
     "end_time": "2019-09-14T12:31:37.900594Z",
     "start_time": "2019-09-14T12:31:37.883508Z"
    }
   },
   "outputs": [],
   "source": [
    "free = gpu_mem_get_free_no_cache()\n",
    "# the max size of bs depends on the available GPU RAM\n",
    "if free > 8200:\n",
    "    bs = 8\n",
    "else:\n",
    "    bs = 4\n",
    "print(f\"using bs={bs}, have {free}MB of GPU RAM free\")"
   ]
  },
  {
   "cell_type": "code",
   "execution_count": null,
   "metadata": {
    "ExecuteTime": {
     "end_time": "2019-09-14T12:31:39.788243Z",
     "start_time": "2019-09-14T12:31:39.785670Z"
    }
   },
   "outputs": [],
   "source": [
    "src_size = np.array(img.shape[1:])\n",
    "src_size"
   ]
  },
  {
   "cell_type": "code",
   "execution_count": null,
   "metadata": {
    "ExecuteTime": {
     "end_time": "2019-09-14T09:43:02.914935Z",
     "start_time": "2019-09-14T09:43:02.912034Z"
    }
   },
   "outputs": [],
   "source": [
    "size = src_size // 4\n",
    "bs = 2 \n",
    "size"
   ]
  },
  {
   "cell_type": "code",
   "execution_count": null,
   "metadata": {
    "ExecuteTime": {
     "end_time": "2019-09-14T09:43:04.478061Z",
     "start_time": "2019-09-14T09:43:03.823927Z"
    }
   },
   "outputs": [],
   "source": [
    "src = (SegmentationItemList.from_folder(path_train_img)\n",
    "       .split_by_rand_pct()\n",
    "       .label_from_func(get_y_fn, classes=[0, 252, 253, 254, 255]))\n",
    "src"
   ]
  },
  {
   "cell_type": "code",
   "execution_count": null,
   "metadata": {
    "ExecuteTime": {
     "end_time": "2019-09-14T09:43:06.008400Z",
     "start_time": "2019-09-14T09:43:04.804743Z"
    }
   },
   "outputs": [],
   "source": [
    "data = (src.transform(get_transforms(), size=size, tfm_y=True)\n",
    "        .databunch(bs=bs)\n",
    "        .normalize(imagenet_stats))\n",
    "data"
   ]
  },
  {
   "cell_type": "code",
   "execution_count": null,
   "metadata": {
    "ExecuteTime": {
     "end_time": "2019-09-14T09:43:12.153369Z",
     "start_time": "2019-09-14T09:43:09.687806Z"
    }
   },
   "outputs": [],
   "source": [
    "data.show_batch(2, figsize=(5,5))"
   ]
  },
  {
   "cell_type": "code",
   "execution_count": null,
   "metadata": {
    "ExecuteTime": {
     "end_time": "2019-09-14T09:43:16.909140Z",
     "start_time": "2019-09-14T09:43:15.463897Z"
    }
   },
   "outputs": [],
   "source": [
    "data.show_batch(2, figsize=(5, 5), ds_type=DatasetType.Valid)"
   ]
  },
  {
   "cell_type": "code",
   "execution_count": null,
   "metadata": {
    "ExecuteTime": {
     "end_time": "2019-09-14T09:43:16.912334Z",
     "start_time": "2019-09-14T09:43:16.910439Z"
    }
   },
   "outputs": [],
   "source": [
    "wd=1e-2"
   ]
  },
  {
   "cell_type": "code",
   "execution_count": null,
   "metadata": {
    "ExecuteTime": {
     "end_time": "2019-09-14T09:43:18.089563Z",
     "start_time": "2019-09-14T09:43:17.082029Z"
    }
   },
   "outputs": [],
   "source": [
    "learn = unet_learner(data, models.resnet34, wd=wd)"
   ]
  },
  {
   "cell_type": "code",
   "execution_count": null,
   "metadata": {
    "ExecuteTime": {
     "end_time": "2019-09-14T09:43:23.288548Z",
     "start_time": "2019-09-14T09:43:18.090559Z"
    },
    "scrolled": false
   },
   "outputs": [],
   "source": [
    "lr_find(learn)"
   ]
  },
  {
   "cell_type": "code",
   "execution_count": null,
   "metadata": {},
   "outputs": [],
   "source": []
  }
 ],
 "metadata": {
  "kernelspec": {
   "display_name": "Python 3",
   "language": "python",
   "name": "python3"
  },
  "language_info": {
   "codemirror_mode": {
    "name": "ipython",
    "version": 3
   },
   "file_extension": ".py",
   "mimetype": "text/x-python",
   "name": "python",
   "nbconvert_exporter": "python",
   "pygments_lexer": "ipython3",
   "version": "3.6.9"
  },
  "toc": {
   "base_numbering": 1,
   "nav_menu": {},
   "number_sections": true,
   "sideBar": true,
   "skip_h1_title": false,
   "title_cell": "Table of Contents",
   "title_sidebar": "Contents",
   "toc_cell": false,
   "toc_position": {},
   "toc_section_display": true,
   "toc_window_display": true
  }
 },
 "nbformat": 4,
 "nbformat_minor": 2
}
