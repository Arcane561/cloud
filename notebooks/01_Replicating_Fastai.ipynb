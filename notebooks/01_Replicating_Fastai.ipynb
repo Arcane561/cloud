{
 "cells": [
  {
   "cell_type": "markdown",
   "metadata": {},
   "source": [
    "# Try Fastai"
   ]
  },
  {
   "cell_type": "markdown",
   "metadata": {},
   "source": [
    "Fastai provides an API for semantic segmentation. The first attempt is to learn how to use it."
   ]
  },
  {
   "cell_type": "code",
   "execution_count": null,
   "metadata": {
    "ExecuteTime": {
     "end_time": "2019-09-08T19:54:06.496470Z",
     "start_time": "2019-09-08T19:54:05.636797Z"
    }
   },
   "outputs": [],
   "source": [
    "from fastai import *\n",
    "from fastai.vision import *\n",
    "from fastai.callbacks.hooks import *\n",
    "\n",
    "import pandas as pd\n",
    "import numpy as np\n",
    "from matplotlib import pyplot as plt\n",
    "from PIL import Image\n",
    "\n",
    "from pathlib import Path\n",
    "import os\n",
    "import random\n",
    "\n",
    "from fastai.callbacks.hooks import *\n",
    "from fastai.utils.mem import *"
   ]
  },
  {
   "cell_type": "markdown",
   "metadata": {},
   "source": [
    "## Preparation"
   ]
  },
  {
   "cell_type": "markdown",
   "metadata": {},
   "source": [
    "Main challenge with fastai is the creation of databunch. After that its all straightforward."
   ]
  },
  {
   "cell_type": "code",
   "execution_count": null,
   "metadata": {
    "ExecuteTime": {
     "end_time": "2019-09-08T19:54:06.500771Z",
     "start_time": "2019-09-08T19:54:06.497531Z"
    }
   },
   "outputs": [],
   "source": [
    "PROJ_DIR = Path(os.path.abspath(\"\")).parent\n",
    "PROJ_DIR"
   ]
  },
  {
   "cell_type": "code",
   "execution_count": null,
   "metadata": {
    "ExecuteTime": {
     "end_time": "2019-09-08T19:54:06.778005Z",
     "start_time": "2019-09-08T19:54:06.771405Z"
    }
   },
   "outputs": [],
   "source": [
    "path_img = PROJ_DIR / \"data\" / \"raw\" / \"train_images\"\n",
    "path_test_img = PROJ_DIR / \"data\" / \"raw\" / \"test_images\""
   ]
  },
  {
   "cell_type": "code",
   "execution_count": null,
   "metadata": {
    "ExecuteTime": {
     "end_time": "2019-09-08T19:54:07.348449Z",
     "start_time": "2019-09-08T19:54:07.287442Z"
    }
   },
   "outputs": [],
   "source": [
    "fnames = get_image_files(path_img)\n",
    "fnames[:3]"
   ]
  },
  {
   "cell_type": "code",
   "execution_count": null,
   "metadata": {
    "ExecuteTime": {
     "end_time": "2019-09-08T19:54:07.947924Z",
     "start_time": "2019-09-08T19:54:07.562795Z"
    },
    "scrolled": true
   },
   "outputs": [],
   "source": [
    "img_f = fnames[10]\n",
    "img = open_image(img_f)\n",
    "img.show(figsize=(5,5))"
   ]
  },
  {
   "cell_type": "code",
   "execution_count": null,
   "metadata": {
    "ExecuteTime": {
     "end_time": "2019-09-08T19:54:08.348239Z",
     "start_time": "2019-09-08T19:54:08.023441Z"
    },
    "scrolled": true
   },
   "outputs": [],
   "source": [
    "img = open_image(path_img / '0011165.jpg')\n",
    "img.show(figsize=(5,5))"
   ]
  },
  {
   "cell_type": "markdown",
   "metadata": {},
   "source": [
    "### Reading Labels"
   ]
  },
  {
   "cell_type": "code",
   "execution_count": null,
   "metadata": {
    "ExecuteTime": {
     "end_time": "2019-09-08T19:54:09.553082Z",
     "start_time": "2019-09-08T19:54:09.548846Z"
    }
   },
   "outputs": [],
   "source": [
    "cloud_class = [\"Fish\", \"Flower\", \"Gravel\", \"Sugar\"]\n",
    "cloud_class_code = {x: cloud_class.index(x) + 1 for x in cloud_class}\n",
    "cloud_class_code"
   ]
  },
  {
   "cell_type": "markdown",
   "metadata": {},
   "source": [
    "`rle_decode` method of fastai can decome runnling label encodings."
   ]
  },
  {
   "cell_type": "code",
   "execution_count": null,
   "metadata": {
    "ExecuteTime": {
     "end_time": "2019-09-08T19:54:11.772851Z",
     "start_time": "2019-09-08T19:54:10.748714Z"
    },
    "scrolled": true
   },
   "outputs": [],
   "source": [
    "df_labels = pd.read_csv(PROJ_DIR / \"data\" / \"raw\" / \"train.csv\")\n",
    "df_labels.head()"
   ]
  },
  {
   "cell_type": "code",
   "execution_count": null,
   "metadata": {
    "ExecuteTime": {
     "end_time": "2019-09-08T19:54:11.778263Z",
     "start_time": "2019-09-08T19:54:11.774035Z"
    }
   },
   "outputs": [],
   "source": [
    "def rle_2_png(img):\n",
    "    \"\"\"\n",
    "    Takes the name of the image, creates the mask will all\n",
    "    labels available and saves the mask as png\n",
    "    \"\"\"\n",
    "    # If img lacks 'jpg' extension add it\n",
    "    if not img.endswith(\"jpg\"):\n",
    "        img += \".jpg\"\n",
    "\n",
    "    # Filter labels dataframe\n",
    "    df_temp = df_labels[df_labels.Image_Label.apply(lambda x: img in x)]\n",
    "\n",
    "    # Drop rows with missing lables\n",
    "    df_temp = df_temp[~df_temp.EncodedPixels.isna()]\n",
    "\n",
    "    if len(df_temp) == 0:\n",
    "        raise ValueError(f\"{img} has no labels existing.\")\n",
    "\n",
    "    # Create combined mask for each class of clouds\n",
    "    mask_complete = np.zeros((2100, 1400))\n",
    "    for ind in range(len(df_temp)):\n",
    "        cloud_cls = df_temp.iloc[ind].Image_Label.split(\"_\")[-1]\n",
    "\n",
    "        mask = rle_decode(df_temp.iloc[ind].EncodedPixels, (2100, 1400))\n",
    "\n",
    "        mask_complete[mask != 0] = cloud_class_code[cloud_cls]\n",
    "    \n",
    "    return mask_complete\n",
    "\n",
    "    plt.imshow(mask_complete.T)\n",
    "    plt.savefig(PROJ_DIR / \"data\" / \"raw\" / \"train_labels\" / f\"{img.split('.')[0]}.png\")"
   ]
  },
  {
   "cell_type": "markdown",
   "metadata": {},
   "source": [
    "### Save the masks in train_labels folder"
   ]
  },
  {
   "cell_type": "code",
   "execution_count": null,
   "metadata": {
    "ExecuteTime": {
     "end_time": "2019-09-08T19:44:24.025731Z",
     "start_time": "2019-09-08T19:44:24.003125Z"
    }
   },
   "outputs": [],
   "source": [
    "for ind, fname in enumerate(fnames):\n",
    "    if ind % 200 == 0:\n",
    "        print(ind)\n",
    "    m = rle_2_png(fname.stem)\n",
    "    break\n",
    "    "
   ]
  },
  {
   "cell_type": "markdown",
   "metadata": {},
   "source": [
    "## Create DataBunch"
   ]
  },
  {
   "cell_type": "code",
   "execution_count": null,
   "metadata": {
    "ExecuteTime": {
     "end_time": "2019-09-08T10:44:14.666560Z",
     "start_time": "2019-09-08T10:44:14.140441Z"
    }
   },
   "outputs": [],
   "source": [
    "x = (SegmentationItemList\n",
    "     .from_folder(path_img)\n",
    "     .split_by_rand_pct())\n",
    "x"
   ]
  }
 ],
 "metadata": {
  "kernelspec": {
   "display_name": "Python 3",
   "language": "python",
   "name": "python3"
  },
  "language_info": {
   "codemirror_mode": {
    "name": "ipython",
    "version": 3
   },
   "file_extension": ".py",
   "mimetype": "text/x-python",
   "name": "python",
   "nbconvert_exporter": "python",
   "pygments_lexer": "ipython3",
   "version": "3.6.9"
  },
  "toc": {
   "base_numbering": 1,
   "nav_menu": {},
   "number_sections": true,
   "sideBar": true,
   "skip_h1_title": false,
   "title_cell": "Table of Contents",
   "title_sidebar": "Contents",
   "toc_cell": false,
   "toc_position": {},
   "toc_section_display": true,
   "toc_window_display": true
  }
 },
 "nbformat": 4,
 "nbformat_minor": 2
}
