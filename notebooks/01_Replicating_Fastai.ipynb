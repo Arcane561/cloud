{
 "cells": [
  {
   "cell_type": "markdown",
   "metadata": {},
   "source": [
    "# Try Fastai"
   ]
  },
  {
   "cell_type": "markdown",
   "metadata": {},
   "source": [
    "Fastai provides an API for semantic segmentation. The first attempt is to learn how to use it."
   ]
  },
  {
   "cell_type": "code",
   "execution_count": null,
   "metadata": {
    "ExecuteTime": {
     "end_time": "2019-09-10T21:55:04.796216Z",
     "start_time": "2019-09-10T21:55:03.946626Z"
    }
   },
   "outputs": [],
   "source": [
    "from fastai import *\n",
    "from fastai.vision import *\n",
    "from fastai.callbacks.hooks import *\n",
    "\n",
    "import pandas as pd\n",
    "import numpy as np\n",
    "from matplotlib import pyplot as plt\n",
    "from PIL import Image\n",
    "\n",
    "from pathlib import Path\n",
    "import os\n",
    "import random\n",
    "\n",
    "from fastai.callbacks.hooks import *\n",
    "from fastai.utils.mem import *"
   ]
  },
  {
   "cell_type": "markdown",
   "metadata": {},
   "source": [
    "## Preparation"
   ]
  },
  {
   "cell_type": "markdown",
   "metadata": {},
   "source": [
    "Main challenge with fastai is the creation of databunch. After that its all straightforward."
   ]
  },
  {
   "cell_type": "code",
   "execution_count": null,
   "metadata": {
    "ExecuteTime": {
     "end_time": "2019-09-10T21:55:04.800889Z",
     "start_time": "2019-09-10T21:55:04.797482Z"
    }
   },
   "outputs": [],
   "source": [
    "PROJ_DIR = Path(os.path.abspath(\"\")).parent\n",
    "PROJ_DIR"
   ]
  },
  {
   "cell_type": "code",
   "execution_count": null,
   "metadata": {
    "ExecuteTime": {
     "end_time": "2019-09-10T21:55:04.811979Z",
     "start_time": "2019-09-10T21:55:04.801798Z"
    }
   },
   "outputs": [],
   "source": [
    "path_train_img = PROJ_DIR / \"data\" / \"raw\" / \"train_images\"\n",
    "path_train_labels = PROJ_DIR / \"data\" / \"raw\" / \"train_labels\"\n",
    "path_test_img = PROJ_DIR / \"data\" / \"raw\" / \"test_images\""
   ]
  },
  {
   "cell_type": "code",
   "execution_count": null,
   "metadata": {
    "ExecuteTime": {
     "end_time": "2019-09-10T21:55:04.844175Z",
     "start_time": "2019-09-10T21:55:04.813035Z"
    }
   },
   "outputs": [],
   "source": [
    "fnames = get_image_files(path_train_img)\n",
    "fnames[:3]"
   ]
  },
  {
   "cell_type": "code",
   "execution_count": null,
   "metadata": {
    "ExecuteTime": {
     "end_time": "2019-09-10T21:55:05.162627Z",
     "start_time": "2019-09-10T21:55:04.845061Z"
    },
    "scrolled": true
   },
   "outputs": [],
   "source": [
    "img_f = fnames[10]\n",
    "img = open_image(img_f)\n",
    "img.show(figsize=(5, 5))"
   ]
  },
  {
   "cell_type": "code",
   "execution_count": null,
   "metadata": {
    "ExecuteTime": {
     "end_time": "2019-09-10T21:55:05.488284Z",
     "start_time": "2019-09-10T21:55:05.164181Z"
    },
    "scrolled": true
   },
   "outputs": [],
   "source": [
    "img = open_image(path_train_img / \"0011165.jpg\")\n",
    "img.show(figsize=(5, 5))"
   ]
  },
  {
   "cell_type": "markdown",
   "metadata": {},
   "source": [
    "### Reading Labels"
   ]
  },
  {
   "cell_type": "code",
   "execution_count": null,
   "metadata": {
    "ExecuteTime": {
     "end_time": "2019-09-10T21:55:05.491478Z",
     "start_time": "2019-09-10T21:55:05.489216Z"
    }
   },
   "outputs": [],
   "source": [
    "codes = [\"Fish\", \"Flower\", \"Gravel\", \"Sugar\"]\n",
    "codes"
   ]
  },
  {
   "cell_type": "markdown",
   "metadata": {},
   "source": [
    "## Create DataBunch"
   ]
  },
  {
   "cell_type": "code",
   "execution_count": null,
   "metadata": {
    "ExecuteTime": {
     "end_time": "2019-09-10T21:55:05.508753Z",
     "start_time": "2019-09-10T21:55:05.492327Z"
    }
   },
   "outputs": [],
   "source": [
    "free = gpu_mem_get_free_no_cache()\n",
    "# the max size of bs depends on the available GPU RAM\n",
    "if free > 8200:\n",
    "    bs = 8\n",
    "else:\n",
    "    bs = 4\n",
    "print(f\"using bs={bs}, have {free}MB of GPU RAM free\")"
   ]
  },
  {
   "cell_type": "code",
   "execution_count": null,
   "metadata": {
    "ExecuteTime": {
     "end_time": "2019-09-10T21:55:29.904801Z",
     "start_time": "2019-09-10T21:55:29.902139Z"
    }
   },
   "outputs": [],
   "source": [
    "bs=1"
   ]
  },
  {
   "cell_type": "code",
   "execution_count": null,
   "metadata": {
    "ExecuteTime": {
     "end_time": "2019-09-10T21:55:05.545360Z",
     "start_time": "2019-09-10T21:55:05.514964Z"
    }
   },
   "outputs": [],
   "source": [
    "get_y_fn = lambda x: path_train_labels / f\"{x.stem}.png\""
   ]
  },
  {
   "cell_type": "code",
   "execution_count": null,
   "metadata": {
    "ExecuteTime": {
     "end_time": "2019-09-10T21:55:05.558898Z",
     "start_time": "2019-09-10T21:55:05.546361Z"
    }
   },
   "outputs": [],
   "source": [
    "src_size = np.array(img.shape[1:])\n",
    "src_size"
   ]
  },
  {
   "cell_type": "code",
   "execution_count": null,
   "metadata": {
    "ExecuteTime": {
     "end_time": "2019-09-10T21:55:05.575035Z",
     "start_time": "2019-09-10T21:55:05.559734Z"
    }
   },
   "outputs": [],
   "source": [
    "size = src_size // 2\n",
    "size"
   ]
  },
  {
   "cell_type": "code",
   "execution_count": null,
   "metadata": {
    "ExecuteTime": {
     "end_time": "2019-09-10T21:55:07.340584Z",
     "start_time": "2019-09-10T21:55:05.576010Z"
    }
   },
   "outputs": [],
   "source": [
    "data = (\n",
    "    SegmentationItemList.from_folder(path_train_img)\n",
    "    .split_by_rand_pct()\n",
    "    .label_from_func(get_y_fn, classes=codes)\n",
    "    .add_test_folder(path_test_img)\n",
    "    .transform(get_transforms(), size=size, tfm_y=False)\n",
    "    .databunch(bs=bs)\n",
    "    .normalize(imagenet_stats)\n",
    ")\n",
    "\n",
    "data"
   ]
  },
  {
   "cell_type": "code",
   "execution_count": null,
   "metadata": {
    "ExecuteTime": {
     "end_time": "2019-09-10T21:55:07.343739Z",
     "start_time": "2019-09-10T21:55:07.341649Z"
    }
   },
   "outputs": [],
   "source": [
    "wd = 1e-2"
   ]
  },
  {
   "cell_type": "code",
   "execution_count": null,
   "metadata": {
    "ExecuteTime": {
     "end_time": "2019-09-10T21:55:54.303739Z",
     "start_time": "2019-09-10T21:55:52.308556Z"
    }
   },
   "outputs": [],
   "source": [
    "learn = unet_learner(data, models.resnet18, wd=wd)"
   ]
  },
  {
   "cell_type": "code",
   "execution_count": null,
   "metadata": {
    "ExecuteTime": {
     "end_time": "2019-09-10T21:56:09.593748Z",
     "start_time": "2019-09-10T21:56:07.747440Z"
    }
   },
   "outputs": [],
   "source": [
    "lr_find(learn)\n",
    "learn.recorder.plot()"
   ]
  },
  {
   "cell_type": "code",
   "execution_count": null,
   "metadata": {},
   "outputs": [],
   "source": []
  }
 ],
 "metadata": {
  "kernelspec": {
   "display_name": "Python 3",
   "language": "python",
   "name": "python3"
  },
  "language_info": {
   "codemirror_mode": {
    "name": "ipython",
    "version": 3
   },
   "file_extension": ".py",
   "mimetype": "text/x-python",
   "name": "python",
   "nbconvert_exporter": "python",
   "pygments_lexer": "ipython3",
   "version": "3.6.9"
  },
  "toc": {
   "base_numbering": 1,
   "nav_menu": {},
   "number_sections": true,
   "sideBar": true,
   "skip_h1_title": false,
   "title_cell": "Table of Contents",
   "title_sidebar": "Contents",
   "toc_cell": false,
   "toc_position": {},
   "toc_section_display": true,
   "toc_window_display": true
  }
 },
 "nbformat": 4,
 "nbformat_minor": 2
}
